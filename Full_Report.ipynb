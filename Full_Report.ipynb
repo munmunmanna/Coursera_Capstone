{
 "cells": [
  {
   "cell_type": "markdown",
   "metadata": {},
   "source": [
    "# INTRODUCTION TO CAPSTONE PROJECT"
   ]
  },
  {
   "cell_type": "markdown",
   "metadata": {},
   "source": [
    "## Problem to be solved"
   ]
  },
  {
   "cell_type": "markdown",
   "metadata": {},
   "source": [
    "My friend, Anthony wants to open a fast food restaurant chain in New York City. He contacted me and asked my suggestions for starting the new business. His main problem is - what kind of customers he should focus on? For example - should his business target high income group, young aged group or high density area? What should be the price tier for his restaurant? Should it be uniform across places or differentiated based on some criterion? \n",
    "<p>&nbsp;&nbsp;&nbsp;&nbsp;&nbsp;&nbsp;&nbsp;\n",
    "<b>In sum, Anthony wanted an analysis on expected customer segmentation based on areas, income, age, population of the area where fast food eateries are popular.</b>\n",
    "\n",
    "<p>&nbsp;&nbsp;&nbsp;&nbsp;&nbsp;&nbsp;&nbsp;\n",
    "As I am learning this course, I thought it can be a good topic for the Capstone Project and at the same time, I can use my Data Science techniques to solve my friend's problems. The solution to this problem is useful not only to the startups of restaurant business but similar approach can be adopted for any business which provides immovable service with limited reachability (like a furniture shop, electronics shop, grocery shop,<i> etc.</i>) to start up and analyse in advance how to maximize profit by opening shops/offices in the right place and targeting the right customers. "
   ]
  },
  {
   "cell_type": "markdown",
   "metadata": {},
   "source": [
    "# DATA SECTION"
   ]
  },
  {
   "cell_type": "markdown",
   "metadata": {},
   "source": [
    "This project will focus on the fast food chain outlets in New York county of the New York state in USA. In the project, the demographic statistics of New York county per zip code are collected, fast food restaurants around the zip codes are found using Foursquare API and the details of the collected outlets are extracted using the same API. All output data are merged and filtered to consolidate the relevant information for the project. \n",
    "<p>&nbsp;&nbsp;&nbsp;&nbsp;&nbsp;&nbsp;&nbsp;\n",
    "Firstly, the zip codes are collected for New York county in the New York state from the data source. The data contains all the zip codes of USA along with latitude and longitude geographical attributes. It is filtered to get the zip codes of New York county.\n",
    "<p>&nbsp;&nbsp;&nbsp;&nbsp;&nbsp;&nbsp;&nbsp;\n",
    "Secondly, the demographics are collected for the New York county zip codes. Information like median income, population, median age per zip codes are gathered here. This dataframe is merged with the former dataframe to focus on zipcodes whose complete information are available.\n",
    "<p>&nbsp;&nbsp;&nbsp;&nbsp;&nbsp;&nbsp;&nbsp;\n",
    "Thirdly, using the Foursquare API, a list of atmost 10 fast food restaurants are found within a radius of 500 units for every zipcode. The restaurants are uniquely identified by its Id. Since, regular calls to Foursquare are limited, these information are stored in a csv file named 'export_dataframe1.csv'\n",
    "<p>&nbsp;&nbsp;&nbsp;&nbsp;&nbsp;&nbsp;&nbsp;\n",
    "Finally, using the <b>Foursquare API</b>, all the details are collected for each fast food restaurant using unique restaurant Id. Information like No. of likes, Ratings and Price_Tier are received at this stage. Since, regular calls to Foursquare are limited, these information are stored in a csv file named 'export_dataframe2.csv'           \n",
    "\n",
    "\n",
    "<p>&nbsp;&nbsp;&nbsp;&nbsp;&nbsp;&nbsp;&nbsp;\n",
    "\n",
    "<table border=\"1\">\n",
    "    <thead>\n",
    "        <tr align='center'>\n",
    "            <th>S.No.</th>\n",
    "            <th>Details</th>\n",
    "            <th>Source</th>\n",
    "        </tr>\n",
    "    </thead>\n",
    "    <tbody>\n",
    "        <tr align='center'>\n",
    "            <td>1</td>            \n",
    "            <td align='left'>\n",
    "                Collection of zip codes for New York county in the New York state from the data source.                \n",
    "            </td>\n",
    "            <td>https://www.unitedstateszipcodes.org/ny/</td>\n",
    "        </tr>        \n",
    "        <tr align='center'>\n",
    "            <td>2</td>            \n",
    "            <td align='left'>\n",
    "                Collection of demographic information per zip code.                                \n",
    "            </td>\n",
    "            <td>https://zipwho.com/</td>\n",
    "        </tr>           \n",
    "        <tr align='center'>\n",
    "            <td>3</td>            \n",
    "            <td align='left'> \n",
    "                Collection of list of fast food restaurants using <b>Foursquare API</b>.\n",
    "            </td>\n",
    "            <td>\n",
    "                https://api.foursquare.com/v2/venues/search?\n",
    "                <br>\n",
    "                &client_id={}&client_secret={}&v={}&ll={},{}\n",
    "                <br>\n",
    "                &radius={}&limit={}&categoryId={} \n",
    "                <br><br>\n",
    "                CategoryId='4bf58dd8d48988d16e941735' is used \n",
    "                <br>\n",
    "                for fast food restaurant as stated in the following link:\n",
    "                <br>\n",
    "                https://developer.foursquare.com/docs/resources/categories\n",
    "            </td>\n",
    "        </tr>   \n",
    "        <tr align='center'>\n",
    "            <td>4</td>            \n",
    "            <td align='left'> Collection of details of each fast food restaurant  using <b>Foursquare API</b>.\n",
    "            </td>\n",
    "            <td>\n",
    "                https://api.foursquare.com/v2/venues/{}?\n",
    "                <br>\n",
    "                &client_id={}&client_secret={}&v={}\n",
    "            </td>\n",
    "        </tr>\n",
    "    </tbody>\n",
    "</table>\n",
    "\n",
    "<p>&nbsp;&nbsp;&nbsp;&nbsp;&nbsp;&nbsp;&nbsp;\n",
    "All these information are clubbed together and the machine learning algorithm is executed over the data for analysing.\n",
    "Mainly, K-Means clustering will be done on the data to construct the expected customer segmentation."
   ]
  },
  {
   "cell_type": "markdown",
   "metadata": {},
   "source": [
    "Example - Considering the zip code - 10001. We found 10 restaurants in its surroundings using the <b>Foursquare API</b> as described in step 3.\n",
    "<br>\n",
    "<img src=\"Example1.JPG\">\n",
    "<br>\n",
    "There are 6 subways, 1 McDonald's, 1 Enfes, 1 Taco Bell/Pizza Hut, 1 Boston Market.\n",
    "We will focus on each Restaurant and receive details about it.\n",
    "For example - Let us focus on Restaurant with Id='4ecbe682f9f4a82587658269', <b>Foursquare API</b> provides the following information - \n",
    "<br>\n",
    "<img src=\"Example2.JPG\">\n",
    "<br>\n",
    "We can clearly see, there are 4 likes, Price_Tier is 1 (i.e. cheap) and ratings is 6.1\n",
    "\n",
    "Hence, it is apparent that <b>Foursquare API</b> has played a vital role in data collection."
   ]
  },
  {
   "cell_type": "markdown",
   "metadata": {},
   "source": [
    "## METHODOLOGY SECTION"
   ]
  },
  {
   "cell_type": "markdown",
   "metadata": {},
   "source": [
    "<ul>\n",
    "    <li style=\"font-size:5em\">\n",
    "        <h4>1. Business Understanding</h4>\n",
    "            To find the best customer base for a startup fast food restaurant chain business in New York.\n",
    "            <br>\n",
    "            In today's competitive world, where giant branded companies eat away the profits of the small companies, it is difficult for a startup company to see success early and be a brand. Hence, it is important to do an analysis and start a company wisely by selecting right factors and resources so that the company starts making profit from day one and sustain for a long time.<br> \n",
    "    </li>\n",
    "    <li style=\"font-size:5em\">\n",
    "        <h4>2. Analytic Approach</h4>\n",
    "        This project will focus on areas of New York county and compare their demographics such as Annual Income, Population, Age with their fast food restaurant details such as ratings, count of likes, price tier.\n",
    "        <br>\n",
    "        It is needed to study under what ideal factors, the fast food restaurants are popular. For example - Should fast food be lowly or highly priced? Are fast food more popular among young, middle-aged or old people?\n",
    "        <br>\n",
    "        Through this process, a serious attempt will be made to find answers to some of these questions.\n",
    "    </li>\n",
    "    <li style=\"font-size:5em\">\n",
    "        <h4>3. Data Requirements</h4>\n",
    "        <ul>\n",
    "            <li>\n",
    "                a) To start with, firstly the information that is needed are zipcodes of new york.\n",
    "            </li>\n",
    "            <li>\n",
    "                b) Secondly, demographics of zip codes of New York are in demand.\n",
    "            </li>\n",
    "            <li>\n",
    "                c) Thirdly, list of all fast food restaurants in New York will be collected and used.\n",
    "            </li>\n",
    "            <li>\n",
    "                d) Finally, details of all the fast food restaurants listed in the third step will be stored and saved.\n",
    "            </li>\n",
    "        </ul>\n",
    "        <br>\n",
    "        For the 3rd and last step, <b>Foursquare API</b> comes to the rescue and plays a vital role in Data Collection process.\n",
    "    </li>\n",
    "    <li style=\"font-size:5em\">\n",
    "        <h4>4. Data Collection</h4>\n",
    "        The data section (above) clearly states which sources have been used to retrieve data listed in the data requirement section.\n",
    "    </li>\n",
    "    <li style=\"font-size:5em\">\n",
    "        <h4>5. Data Understanding</h4>\n",
    "        In the zipcode file, it is found that all the counties of New York are covered as the data was available as per a specific state. So it is filtered so that the project can focus on areas of New York county only.\n",
    "        Also due to limitation in data availability, the project focuses on those zipcodes for which demographic information are found. This information contains median income and median age and not the means. Thus, we can rely more on the data because considering the averages, it is possible that the figures are exploited by the outliers.\n",
    "        <br>\n",
    "        Using each zipcode, list of restaurants is generated using <b>Foursquare API</b>. Each restaurant is represented uniquely by an Id.\n",
    "        <br>\n",
    "        Using these Ids, <b> Foursquare API </b> generates details of each and every restaurant.\n",
    "        Since with free account with <b> Foursquare</b>, limited regular and premium calls can be made per day, nearly a week was spent in data collection process. Therefore, time consumption is a heavy cost for this process. \n",
    "    </li>\n",
    "    <li style=\"font-size:5em\">\n",
    "        <h4>6. Data Preparation</h4>\n",
    "        At many stages, filtrations of data were done to highlight the relevant factors.\n",
    "        <br>\n",
    "        For example, zipcodes of the new york state were narrowed to zipcodes of the new york county. These were further filtered to zipcodes for which demographic information exist in the data collection stage. This was done using dataframes merging technique.\n",
    "        Also, the dropping tool was used a few times to jump to the relevant information.\n",
    "        <br>\n",
    "        For example, demographic information also contained extra information like education, cost of living index, male to female ratio, etc. for each zip code. These columns were dropped to focus on income, age and population.\n",
    "        <br>\n",
    "        For certain restaurants, <b>Foursquare</b> misses information regarding ratings or price tier.\n",
    "        While price tier varies from 1 (cheap) to 4 (costly), ratings range from 1(poor) to 10(very good).\n",
    "        As part of data cleaning, the records with missing information were dropped so that the results are apparent.\n",
    "    </li>\n",
    "    <li style=\"font-size:5em\">\n",
    "        <h4>7. Modelling</h4>\n",
    "        Machine learning method K Means Clustering is done to cluster the restaurants in clusters based on the data collected.\n",
    "        No. of clusters was selected to be 5 and value of K was taken higher so that a state of convergence is reached.\n",
    "        Simple scatter plots will show only a type of relationship (like linear or polynomial) between 2 parameters but a scatter plot among the clusters will provide a clear picture which cluster or group is driving the crowd to build a trend and hence will help in taking executive decisions.\n",
    "    </li>\n",
    "    <li style=\"font-size:5em\">\n",
    "        <h4>8. Evaluation</h4>\n",
    "        All the questions are answered with details supported by the data science method.\n",
    "        Please see the Results Section below for details.\n",
    "    </li>\n",
    "    <li style=\"font-size:5em\">\n",
    "        <h4>9. Deployment</h4>\n",
    "        Since the data are taken from real life sources, the results are true to the picture. Thus the suggestions made in the Discussion Section below should be followed to build the best environment for a profitable business venture.\n",
    "    </li>\n",
    "    <li style=\"font-size:5em\">\n",
    "        <h4>10. Feedback</h4>\n",
    "        These results will be discussed with my client, Anthony and all the recommendations will be made. Looking forward for his feedback.\n",
    "        This project can be extended to - analysis on type of fast food, analysis on popularity of fast food among teens, etc.\n",
    "    </li>\n",
    "</ul>"
   ]
  },
  {
   "cell_type": "markdown",
   "metadata": {},
   "source": [
    "## RESULTS SECTION"
   ]
  },
  {
   "cell_type": "markdown",
   "metadata": {},
   "source": [
    "All results are shown in form of graphs in the following link:\n",
    "https://github.com/munmunmanna/Coursera_Capstone/blob/master/Capstone_Project_Coding%23c.ipynb"
   ]
  },
  {
   "cell_type": "markdown",
   "metadata": {},
   "source": [
    "## DISCUSSION SECTION"
   ]
  },
  {
   "cell_type": "markdown",
   "metadata": {},
   "source": [
    "<h4>Following observations are seen through the analysis:</h4>\n",
    "<ul>\n",
    "     <li>\n",
    "        High ratings cluster is witnessed in the 60000 to 70000 income bracket.\n",
    "     </li>\n",
    "     <li>\n",
    "        Highest ratings cluster is seen in medium density regions between 40000 to 60000. \n",
    "        <br>\n",
    "        Density higher than 60000 has seen relatively lower to average ratings. \n",
    "        <br>\n",
    "        Density between 50000 to 60000 population has seen ratings of 8 and above.\n",
    "    </li>  \n",
    "    <li>\n",
    "       Fast food does not seem to be popular among high aged (age>40) people except for people in the age group of 46. \n",
    "       <br>\n",
    "       People aged between 34 to 36 years have provided the highest ratings followed by people in the age group of 38 to 39.\n",
    "       <br>\n",
    "       Middle and higher aged people may be health conscious or might be having other responsibilities like family expenses or medical expenses.\n",
    "    </li>\n",
    "    <li>\n",
    "        Fast food restaurants which serve food in the price tier of 1 (i.e. cheaper) has achieved the highest ratings ranging from 4 to 9.5.\n",
    "        <br>\n",
    "        So price is an important choice criteria for fast food restaurants.\n",
    "    </li>\n",
    "    <li>\n",
    "         Fast food is liked by three distinct category of people. One, Higher income and lower age which provide ratings between 4 to 8.\n",
    "         <br>\n",
    "         Two, Higher income and middle aged which provide ratings between 4 to 6. And three lower income and younger age group which provide ratings between 4 to 6.\n",
    "         <br>\n",
    "         There is also a small cluster of lower age and higher income which have provided lower ratings.\n",
    "    </li>\n",
    "    <li>\n",
    "         Low price tier restaurants are dense with any income and any age groups.\n",
    "    </li>\n",
    "    <li>\n",
    "        Higher ratings are received when there are lower age group within low price tier restaurants.\n",
    "    </li>\n",
    "    <li>\n",
    "        Low dense area with higher income group like fast food.\n",
    "    </li>\n",
    "    <li>\n",
    "        Low dense area with lower age group like fast food.\n",
    "    </li>\n",
    "</ul>\n"
   ]
  },
  {
   "cell_type": "markdown",
   "metadata": {},
   "source": [
    "## CONCLUSION SECTION"
   ]
  },
  {
   "cell_type": "markdown",
   "metadata": {},
   "source": [
    "Fast food restaurant business provide tasty treats which lasts for little moments. Therefore, the business environment is robust and changes dynamically to pull the crowd.\n",
    "To set up business in the USA's financial capital area, New York, \n",
    "<br>\n",
    "one should open restaurants in those areas where there is <b>low density population but people are young and earn higher income</b>. Price is an important factor in business. For fast food, crowd is attracted to qualitative food at <b>lowest price (Tier 1)</b>."
   ]
  },
  {
   "cell_type": "code",
   "execution_count": null,
   "metadata": {},
   "outputs": [],
   "source": []
  }
 ],
 "metadata": {
  "kernelspec": {
   "display_name": "Python 3",
   "language": "python",
   "name": "python3"
  },
  "language_info": {
   "codemirror_mode": {
    "name": "ipython",
    "version": 3
   },
   "file_extension": ".py",
   "mimetype": "text/x-python",
   "name": "python",
   "nbconvert_exporter": "python",
   "pygments_lexer": "ipython3",
   "version": "3.6.6"
  }
 },
 "nbformat": 4,
 "nbformat_minor": 2
}
