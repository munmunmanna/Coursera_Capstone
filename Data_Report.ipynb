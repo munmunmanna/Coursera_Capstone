{
 "cells": [
  {
   "cell_type": "markdown",
   "metadata": {},
   "source": [
    "# Data Report"
   ]
  },
  {
   "cell_type": "markdown",
   "metadata": {},
   "source": [
    "Since the business plan is to open fast food chain outlets in New York, this project will focus on the New York county of the New York state in USA. The strategy is to collect demographics of New York county per zip codes, find fast food restaurants around the zip codes using Foursquare API and analyse the details of the collected outlets using the same API. All output data are merged and filtered to consolidate the relevant information for the project. The following steps are taken to collect and refine data:\n",
    "\n",
    "\n",
    "<p>&nbsp;&nbsp;&nbsp;&nbsp;&nbsp;&nbsp;&nbsp;\n",
    "\n",
    "<table border=\"1\">\n",
    "    <thead>\n",
    "        <tr align='center'>\n",
    "            <th>S.No.</th>\n",
    "            <th>Details</th>\n",
    "            <th>Source</th>\n",
    "        </tr>\n",
    "    </thead>\n",
    "    <tbody>\n",
    "        <tr align='center'>\n",
    "            <td>1</td>            \n",
    "            <td align='left'>\n",
    "                Firstly, the zip codes are collected for New York county in the New York state from the data source.\n",
    "                <br>\n",
    "                The data contains all the zip codes of USA along with latitude and longitude geographical attributes.\n",
    "                <br>\n",
    "                It is filtered to get the zip codes of New York county.\n",
    "            </td>\n",
    "            <td>https://www.unitedstateszipcodes.org/ny/</td>\n",
    "        </tr>\n",
    "        <tr align='center'>\n",
    "            <td>2</td>            \n",
    "            <td align='left'>\n",
    "                Secondly, the demographics are collected for the New York county zip codes.\n",
    "                <br>\n",
    "                Information like median income, population, median age per zip codes are gathered here.\n",
    "                <br>\n",
    "                This dataframe is merged with the former dataframe to focus on zipcodes whose complete information are available.\n",
    "            </td>\n",
    "            <td>https://zipwho.com/</td>\n",
    "        </tr>   \n",
    "        <tr align='center'>\n",
    "            <td>3</td>            \n",
    "            <td align='left'>\n",
    "                Thirdly, using the <b>Foursquare API</b>, a list of atmost 10 fast food restaurants are found within a radius of 500 units for every zipcode.\n",
    "                <br>\n",
    "                The restaurants are uniquely identified by its Id. The final output is filtered and duplicate Ids are removed.\n",
    "                <br>\n",
    "                Since, regular calls to Foursquare are limited, these information are stored in a csv file named 'export_dataframe1.csv'\n",
    "            </td>\n",
    "            <td>\n",
    "                https://api.foursquare.com/v2/venues/search?\n",
    "                <br>\n",
    "                &client_id={}&client_secret={}&v={}&ll={},{}\n",
    "                <br>\n",
    "                &radius={}&limit={}&categoryId={}\n",
    "            </td>\n",
    "        </tr>   \n",
    "        <tr align='center'>\n",
    "            <td>4</td>            \n",
    "            <td align='left'>\n",
    "                Finally, using the <b>Foursquare API</b>, all the details are collected for each fast food restaurant using unique restaurant Id.\n",
    "                <br>\n",
    "                Information like No. of likes, Ratings and Price_Tier are received at this stage.\n",
    "                <br>\n",
    "                Since, regular calls to Foursquare are limited, these information are stored in a csv file named 'export_dataframe2.csv'\n",
    "            </td>\n",
    "            <td>\n",
    "                https://api.foursquare.com/v2/venues/{}?\n",
    "                <br>\n",
    "                &client_id={}&client_secret={}&v={}\n",
    "            </td>\n",
    "        </tr>\n",
    "    </tbody>\n",
    "</table>\n",
    "\n",
    "<p>&nbsp;&nbsp;&nbsp;&nbsp;&nbsp;&nbsp;&nbsp;\n",
    "All these information are clubbed together and the machine learning algorithm is executed over the data for analysing.\n",
    "Mainly, K-Means clustering will be done on the data to construct the expected customer segmentation."
   ]
  },
  {
   "cell_type": "markdown",
   "metadata": {},
   "source": [
    "Example - Considering the zip code - 10001. We found 10 restaurants in its surroundings using the <b>Foursquare API</b> as described in step 3.\n",
    "<br>\n",
    "<img src=\"Coursera_Capstone\Example1.JPG\">\n",
    "<br>\n",
    "There are 6 subways, 1 Mc<Donald's, 1 Enfes, 1 Taco Bell/Pizza Hut, 1 Boston Market.\n",
    "We will focus on each Restaurant and receive details about it.\n",
    "For example - Let us focus on Restaurant with Id='4ecbe682f9f4a82587658269', <b>Foursquare API</b> provides the following information - \n",
    "<br>\n",
    "<img src=\"Coursera_Capstone\Example2.JPG\">\n",
    "<br>\n",
    "We can clearly see, there 4 likes, Price_Tier is 1 (i.e. cheap) and ratings is 6.1\n",
    "\n",
    "Hence, it is apparent that <b>Foursquare API</b> has played a vital role in data collection."
   ]
  },
  {
   "cell_type": "code",
   "execution_count": null,
   "metadata": {},
   "outputs": [],
   "source": []
  }
 ],
 "metadata": {
  "kernelspec": {
   "display_name": "Python 3",
   "language": "python",
   "name": "python3"
  },
  "language_info": {
   "codemirror_mode": {
    "name": "ipython",
    "version": 3
   },
   "file_extension": ".py",
   "mimetype": "text/x-python",
   "name": "python",
   "nbconvert_exporter": "python",
   "pygments_lexer": "ipython3",
   "version": "3.6.6"
  }
 },
 "nbformat": 4,
 "nbformat_minor": 2
}
