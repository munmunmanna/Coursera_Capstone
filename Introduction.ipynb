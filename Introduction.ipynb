{
 "cells": [
  {
   "cell_type": "markdown",
   "metadata": {},
   "source": [
    "# INTRODUCTION TO CAPSTONE PROJECT"
   ]
  },
  {
   "cell_type": "markdown",
   "metadata": {},
   "source": [
    "## Problem to be solved"
   ]
  },
  {
   "cell_type": "markdown",
   "metadata": {},
   "source": [
    "My friend, Anthony wants to open a fast food restaurant chain in New York City. He contacted me and asked my suggestions for starting the new business. His main problem is - what kind of customers he should focus on? For example - should his business target high income group, young aged group or high density area? What should be the price tier for his restaurant? Should it be uniform across places or differentiated based on some criterion? \n",
    "<p>&nbsp;&nbsp;&nbsp;&nbsp;&nbsp;&nbsp;&nbsp;\n",
    "<b>In sum, Anthony wanted an analysis on expected customer segmentation based on areas, income, age, population of the area where fast food eateries are popular.</b>\n",
    "\n",
    "<p>&nbsp;&nbsp;&nbsp;&nbsp;&nbsp;&nbsp;&nbsp;\n",
    "As I am learning this course, I thought it can be a good topic for the Capstone Project and at the same time, I can use my Data Science techniques to solve my friend's problems. The solution to this problem is useful not only to the startups of restaurant business but similar approach can be adopted for any business which provides immovable service with limited reachability (like a furniture shop, electronics shop, grocery shop,<i> etc.</i>) to start up and analyse in advance how to maximize profit by opening shops/offices in the right place and targeting the right customers. "
   ]
  },
  {
   "cell_type": "code",
   "execution_count": null,
   "metadata": {},
   "outputs": [],
   "source": []
  }
 ],
 "metadata": {
  "kernelspec": {
   "display_name": "Python 3",
   "language": "python",
   "name": "python3"
  },
  "language_info": {
   "codemirror_mode": {
    "name": "ipython",
    "version": 3
   },
   "file_extension": ".py",
   "mimetype": "text/x-python",
   "name": "python",
   "nbconvert_exporter": "python",
   "pygments_lexer": "ipython3",
   "version": "3.6.6"
  }
 },
 "nbformat": 4,
 "nbformat_minor": 2
}
