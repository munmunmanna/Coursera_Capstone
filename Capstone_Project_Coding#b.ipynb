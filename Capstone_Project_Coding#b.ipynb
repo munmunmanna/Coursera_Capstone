{
 "cells": [
  {
   "cell_type": "markdown",
   "metadata": {},
   "source": [
    "# PART 2 OF CODING - GATHERING OF DETAILS OF RESTAURANTS LISTED IN PART 1"
   ]
  },
  {
   "cell_type": "code",
   "execution_count": 1,
   "metadata": {},
   "outputs": [
    {
     "name": "stdout",
     "output_type": "stream",
     "text": [
      "Libraries imported.\n"
     ]
    }
   ],
   "source": [
    "%reset -f\n",
    "import gc\n",
    "gc.collect()\n",
    "\n",
    "import pandas as pd\n",
    "import numpy as np\n",
    "from IPython.display import display, HTML\n",
    "from sklearn.cluster import KMeans\n",
    "\n",
    "#!conda install -c conda-forge folium=0.5.0 --yes # uncomment this line if you haven't completed the Foursquare API lab\n",
    "import folium # map rendering library\n",
    "import requests\n",
    "\n",
    "print('Libraries imported.')"
   ]
  },
  {
   "cell_type": "markdown",
   "metadata": {},
   "source": [
    "## Importing file 'export_dataframe1.csv' created and stored in Part 1"
   ]
  },
  {
   "cell_type": "code",
   "execution_count": 2,
   "metadata": {
    "scrolled": true
   },
   "outputs": [
    {
     "name": "stdout",
     "output_type": "stream",
     "text": [
      "(173, 6)\n"
     ]
    },
    {
     "data": {
      "text/html": [
       "<table border=\"1\" class=\"dataframe\">\n",
       "  <thead>\n",
       "    <tr style=\"text-align: right;\">\n",
       "      <th></th>\n",
       "      <th>zip</th>\n",
       "      <th>Latitude</th>\n",
       "      <th>Longitude</th>\n",
       "      <th>Name</th>\n",
       "      <th>Id</th>\n",
       "      <th>Venue Category</th>\n",
       "    </tr>\n",
       "  </thead>\n",
       "  <tbody>\n",
       "    <tr>\n",
       "      <th>0</th>\n",
       "      <td>10001</td>\n",
       "      <td>40.748724</td>\n",
       "      <td>-74.003422</td>\n",
       "      <td>SUBWAY</td>\n",
       "      <td>4ecbe682f9f4a82587658269</td>\n",
       "      <td>Sandwich Place</td>\n",
       "    </tr>\n",
       "    <tr>\n",
       "      <th>1</th>\n",
       "      <td>10001</td>\n",
       "      <td>40.747569</td>\n",
       "      <td>-73.997088</td>\n",
       "      <td>McDonald's</td>\n",
       "      <td>4b1331eef964a5205c9523e3</td>\n",
       "      <td>Fast Food Restaurant</td>\n",
       "    </tr>\n",
       "    <tr>\n",
       "      <th>2</th>\n",
       "      <td>10001</td>\n",
       "      <td>40.752250</td>\n",
       "      <td>-74.005727</td>\n",
       "      <td>Enfes</td>\n",
       "      <td>59c143aa6cf01a3c2418005a</td>\n",
       "      <td>Turkish Restaurant</td>\n",
       "    </tr>\n",
       "    <tr>\n",
       "      <th>3</th>\n",
       "      <td>10001</td>\n",
       "      <td>40.748357</td>\n",
       "      <td>-74.004128</td>\n",
       "      <td>Subway</td>\n",
       "      <td>5a64e13cea1e445448e69273</td>\n",
       "      <td>Sandwich Place</td>\n",
       "    </tr>\n",
       "    <tr>\n",
       "      <th>4</th>\n",
       "      <td>10001</td>\n",
       "      <td>40.746259</td>\n",
       "      <td>-73.997676</td>\n",
       "      <td>Subway</td>\n",
       "      <td>4d6e842538363704f4d8a9d0</td>\n",
       "      <td>Sandwich Place</td>\n",
       "    </tr>\n",
       "  </tbody>\n",
       "</table>"
      ],
      "text/plain": [
       "<IPython.core.display.HTML object>"
      ]
     },
     "metadata": {},
     "output_type": "display_data"
    }
   ],
   "source": [
    "ny_ff = pd.read_csv('export_dataframe1.csv')\n",
    "print(ny_ff.shape)\n",
    "display(HTML(ny_ff.head().to_html()))"
   ]
  },
  {
   "cell_type": "markdown",
   "metadata": {},
   "source": [
    "## Seeing shape and data of list of restaurants, uniquely identified by Ids"
   ]
  },
  {
   "cell_type": "code",
   "execution_count": 3,
   "metadata": {},
   "outputs": [
    {
     "name": "stdout",
     "output_type": "stream",
     "text": [
      "(173, 6)\n"
     ]
    },
    {
     "data": {
      "text/html": [
       "<table border=\"1\" class=\"dataframe\">\n",
       "  <thead>\n",
       "    <tr style=\"text-align: right;\">\n",
       "      <th></th>\n",
       "      <th>zip</th>\n",
       "      <th>Latitude</th>\n",
       "      <th>Longitude</th>\n",
       "      <th>Name</th>\n",
       "      <th>Id</th>\n",
       "      <th>Venue Category</th>\n",
       "    </tr>\n",
       "  </thead>\n",
       "  <tbody>\n",
       "    <tr>\n",
       "      <th>0</th>\n",
       "      <td>10001</td>\n",
       "      <td>40.748724</td>\n",
       "      <td>-74.003422</td>\n",
       "      <td>SUBWAY</td>\n",
       "      <td>4ecbe682f9f4a82587658269</td>\n",
       "      <td>Sandwich Place</td>\n",
       "    </tr>\n",
       "    <tr>\n",
       "      <th>1</th>\n",
       "      <td>10001</td>\n",
       "      <td>40.747569</td>\n",
       "      <td>-73.997088</td>\n",
       "      <td>McDonald's</td>\n",
       "      <td>4b1331eef964a5205c9523e3</td>\n",
       "      <td>Fast Food Restaurant</td>\n",
       "    </tr>\n",
       "    <tr>\n",
       "      <th>2</th>\n",
       "      <td>10001</td>\n",
       "      <td>40.752250</td>\n",
       "      <td>-74.005727</td>\n",
       "      <td>Enfes</td>\n",
       "      <td>59c143aa6cf01a3c2418005a</td>\n",
       "      <td>Turkish Restaurant</td>\n",
       "    </tr>\n",
       "    <tr>\n",
       "      <th>3</th>\n",
       "      <td>10001</td>\n",
       "      <td>40.748357</td>\n",
       "      <td>-74.004128</td>\n",
       "      <td>Subway</td>\n",
       "      <td>5a64e13cea1e445448e69273</td>\n",
       "      <td>Sandwich Place</td>\n",
       "    </tr>\n",
       "    <tr>\n",
       "      <th>4</th>\n",
       "      <td>10001</td>\n",
       "      <td>40.746259</td>\n",
       "      <td>-73.997676</td>\n",
       "      <td>Subway</td>\n",
       "      <td>4d6e842538363704f4d8a9d0</td>\n",
       "      <td>Sandwich Place</td>\n",
       "    </tr>\n",
       "  </tbody>\n",
       "</table>"
      ],
      "text/plain": [
       "<IPython.core.display.HTML object>"
      ]
     },
     "metadata": {},
     "output_type": "display_data"
    }
   ],
   "source": [
    "print(ny_ff.shape)\n",
    "display(HTML(ny_ff.head().to_html()))\n",
    "#print(ny_ff.groupby('zip').count())\n",
    "#print(ny_ff.groupby('Id').count())"
   ]
  },
  {
   "cell_type": "markdown",
   "metadata": {},
   "source": [
    "## Setting up Foursquare Credentials"
   ]
  },
  {
   "cell_type": "code",
   "execution_count": 42,
   "metadata": {
    "scrolled": false
   },
   "outputs": [
    {
     "name": "stdout",
     "output_type": "stream",
     "text": [
      "Your credentails:\n",
      "CLIENT_ID: \n",
      "CLIENT_SECRET:\n"
     ]
    }
   ],
   "source": [
    "CLIENT_ID = '' # your Foursquare ID\n",
    "CLIENT_SECRET = '' # your Foursquare Secret\n",
    "VERSION = '20180605' # Foursquare API version\n",
    "\n",
    "print('Your credentails:')\n",
    "print('CLIENT_ID: ' + CLIENT_ID)\n",
    "print('CLIENT_SECRET:' + CLIENT_SECRET)\n",
    "\n"
   ]
  },
  {
   "cell_type": "markdown",
   "metadata": {},
   "source": [
    "## Retrieving details of first restaurant and studying the structure of the JSON file"
   ]
  },
  {
   "cell_type": "code",
   "execution_count": 6,
   "metadata": {},
   "outputs": [
    {
     "name": "stdout",
     "output_type": "stream",
     "text": [
      "Latitude and longitude values of SUBWAY are 40.74872402803528, -74.00342170522295.\n",
      "https://api.foursquare.com/v2/venues/589a09023bd4ab658ea355f3?&client_id=&client_secret=&v=20180605\n"
     ]
    }
   ],
   "source": [
    "id=ny_ff.loc[0, 'Id']\n",
    "id='589a09023bd4ab658ea355f3'\n",
    "neighbourhood_latitude = ny_ff.loc[0, 'Latitude'] # neighbourhood latitude value\n",
    "neighbourhood_longitude = ny_ff.loc[0, 'Longitude'] # neighbourhood longitude value\n",
    "\n",
    "neighbourhood_name = ny_ff.loc[0, 'Name'] # neighbourhood name\n",
    "\n",
    "print('Latitude and longitude values of {} are {}, {}.'.format(neighbourhood_name, \n",
    "                                                               neighbourhood_latitude, \n",
    "                                                               neighbourhood_longitude))\n",
    "url = 'https://api.foursquare.com/v2/venues/{}?&client_id={}&client_secret={}&v={}'.format(\n",
    "            id,\n",
    "            CLIENT_ID, \n",
    "            CLIENT_SECRET, \n",
    "            VERSION\n",
    ")\n",
    "          \n",
    "print(url)\n",
    "#results = requests.get(url).json()\n",
    "#results"
   ]
  },
  {
   "cell_type": "markdown",
   "metadata": {},
   "source": [
    "## Looking at its count of likes, price tier and rating"
   ]
  },
  {
   "cell_type": "code",
   "execution_count": 7,
   "metadata": {},
   "outputs": [
    {
     "ename": "NameError",
     "evalue": "name 'results' is not defined",
     "output_type": "error",
     "traceback": [
      "\u001b[0;31m---------------------------------------------------------------------------\u001b[0m",
      "\u001b[0;31mNameError\u001b[0m                                 Traceback (most recent call last)",
      "\u001b[0;32m<ipython-input-7-b996da6d25c6>\u001b[0m in \u001b[0;36m<module>\u001b[0;34m()\u001b[0m\n\u001b[0;32m----> 1\u001b[0;31m \u001b[0mprint\u001b[0m\u001b[0;34m(\u001b[0m\u001b[0mresults\u001b[0m\u001b[0;34m[\u001b[0m\u001b[0;34m'response'\u001b[0m\u001b[0;34m]\u001b[0m\u001b[0;34m[\u001b[0m\u001b[0;34m'venue'\u001b[0m\u001b[0;34m]\u001b[0m\u001b[0;34m[\u001b[0m\u001b[0;34m'likes'\u001b[0m\u001b[0;34m]\u001b[0m\u001b[0;34m[\u001b[0m\u001b[0;34m'count'\u001b[0m\u001b[0;34m]\u001b[0m\u001b[0;34m)\u001b[0m\u001b[0;34m\u001b[0m\u001b[0m\n\u001b[0m\u001b[1;32m      2\u001b[0m \u001b[0mprint\u001b[0m\u001b[0;34m(\u001b[0m\u001b[0mresults\u001b[0m\u001b[0;34m[\u001b[0m\u001b[0;34m'response'\u001b[0m\u001b[0;34m]\u001b[0m\u001b[0;34m[\u001b[0m\u001b[0;34m'venue'\u001b[0m\u001b[0;34m]\u001b[0m\u001b[0;34m[\u001b[0m\u001b[0;34m'price'\u001b[0m\u001b[0;34m]\u001b[0m\u001b[0;34m[\u001b[0m\u001b[0;34m'tier'\u001b[0m\u001b[0;34m]\u001b[0m\u001b[0;34m)\u001b[0m\u001b[0;34m\u001b[0m\u001b[0m\n\u001b[1;32m      3\u001b[0m \u001b[0mprint\u001b[0m\u001b[0;34m(\u001b[0m\u001b[0mresults\u001b[0m\u001b[0;34m[\u001b[0m\u001b[0;34m'response'\u001b[0m\u001b[0;34m]\u001b[0m\u001b[0;34m[\u001b[0m\u001b[0;34m'venue'\u001b[0m\u001b[0;34m]\u001b[0m\u001b[0;34m[\u001b[0m\u001b[0;34m'rating'\u001b[0m\u001b[0;34m]\u001b[0m\u001b[0;34m)\u001b[0m\u001b[0;34m\u001b[0m\u001b[0m\n",
      "\u001b[0;31mNameError\u001b[0m: name 'results' is not defined"
     ]
    }
   ],
   "source": [
    "print(results['response']['venue']['likes']['count'])\n",
    "print(results['response']['venue']['price']['tier'])\n",
    "print(results['response']['venue']['rating'])"
   ]
  },
  {
   "cell_type": "markdown",
   "metadata": {},
   "source": [
    "## Defining a function to extract details of all restaurants for each zip code by Restaurant Ids"
   ]
  },
  {
   "cell_type": "code",
   "execution_count": 43,
   "metadata": {},
   "outputs": [],
   "source": [
    "def getRatings(RestaurantIds):\n",
    "    \n",
    "    ratings=[]\n",
    "    for id in RestaurantIds:\n",
    "        #print(id)\n",
    "            \n",
    "        # create the API request URL\n",
    "        url = 'https://api.foursquare.com/v2/venues/{}?&client_id={}&client_secret={}&v={}'.format(\n",
    "            id,\n",
    "            CLIENT_ID, \n",
    "            CLIENT_SECRET, \n",
    "            VERSION\n",
    "        )\n",
    "        print(url)\n",
    "        # make the GET request\n",
    "        results = requests.get(url).json()\n",
    "        #print(results)\n",
    "        # return only relevant information for each nearby venue\n",
    "        try:\n",
    "            count=results['response']['venue']['likes']['count']\n",
    "        except:\n",
    "            count=0\n",
    "        try:\n",
    "            priceTier=results['response']['venue']['price']['tier']\n",
    "        except:\n",
    "            priceTier=0\n",
    "        try:\n",
    "            rating=results['response']['venue']['rating']\n",
    "        except:\n",
    "            rating=0\n",
    "        ratings.append([\n",
    "            id, \n",
    "            count,\n",
    "            priceTier,\n",
    "            rating\n",
    "        ])\n",
    "\n",
    "    #df_ratings = pd.DataFrame([item for ratings in ratings for item in ratings])\n",
    "    #df_ratings = pd.DataFrame([item for ratings in ratings for item in ratings])\n",
    "    df_ratings=pd.DataFrame(ratings)\n",
    "    df_ratings.columns = ['RestaurantId','Likes', 'Price_Tier','Ratings']\n",
    "    print('Ratings Extracted!!')\n",
    "    return(df_ratings)"
   ]
  },
  {
   "cell_type": "markdown",
   "metadata": {},
   "source": [
    "## Callling the function for Restaurant Ids listed in 'export_dataframe1.csv' file"
   ]
  },
  {
   "cell_type": "code",
   "execution_count": 45,
   "metadata": {
    "scrolled": true
   },
   "outputs": [
    {
     "name": "stdout",
     "output_type": "stream",
     "text": [
      "24\n",
      "149    4bf1f678d39ad13a9ce5aa0e\n",
      "150    4d22633b04f559412373f585\n",
      "151    51382eece4b0cdf571c3956c\n",
      "152    51b79ea887f367858131aa5b\n",
      "153    4b25f542f964a520c47724e3\n",
      "154    4bbd288407809521d950da91\n",
      "155    55a15550498e4dc36c4845c3\n",
      "156    4acfaa7cf964a52032d520e3\n",
      "157    4de15acde4cd056f7429fad9\n",
      "158    4ac902a2f964a52003be20e3\n",
      "159    563ee2e4cd10872628b2cf66\n",
      "160    4b074da2f964a5209bfb22e3\n",
      "161    4e4ce4d1bd413c4cc66d0562\n",
      "162    4c1ba521eac020a1382d45c2\n",
      "163    4bc7cd216501c9b63e3b3f29\n",
      "164    516080f4e4b0dcf88a609cf1\n",
      "165    4d1a4cf51356a0934d7ff082\n",
      "166    4bf1d250d39ad13a85b4aa0e\n",
      "167    4b19debcf964a5207ce523e3\n",
      "168    4be84f89c5220f472d95a9ca\n",
      "169    4a0c9f36f964a5204e751fe3\n",
      "170    4c9dbaab7ada199cc4b794bc\n",
      "171    4ba23faef964a520f2e637e3\n",
      "172    4e4ce455bd413c4cc66d0138\n",
      "Name: Id, dtype: object\n",
      "https://api.foursquare.com/v2/venues/4bf1f678d39ad13a9ce5aa0e?&client_id=&client_secret=&v=20180605\n",
      "https://api.foursquare.com/v2/venues/4d22633b04f559412373f585?&client_id=&client_secret=&v=20180605\n",
      "https://api.foursquare.com/v2/venues/51382eece4b0cdf571c3956c?&client_id=&client_secret=&v=20180605\n",
      "https://api.foursquare.com/v2/venues/51b79ea887f367858131aa5b?&client_id=&client_secret=&v=20180605\n",
      "https://api.foursquare.com/v2/venues/4b25f542f964a520c47724e3?&client_id=&client_secret=&v=20180605\n",
      "https://api.foursquare.com/v2/venues/4bbd288407809521d950da91?&client_id=&client_secret=&v=20180605\n",
      "https://api.foursquare.com/v2/venues/55a15550498e4dc36c4845c3?&client_id=&client_secret=&v=20180605\n",
      "https://api.foursquare.com/v2/venues/4acfaa7cf964a52032d520e3?&client_id=&client_secret=&v=20180605\n",
      "https://api.foursquare.com/v2/venues/4de15acde4cd056f7429fad9?&client_id=&client_secret=&v=20180605\n",
      "https://api.foursquare.com/v2/venues/4ac902a2f964a52003be20e3?&client_id=&client_secret=&v=20180605\n",
      "https://api.foursquare.com/v2/venues/563ee2e4cd10872628b2cf66?&client_id=&client_secret=&v=20180605\n",
      "https://api.foursquare.com/v2/venues/4b074da2f964a5209bfb22e3?&client_id=&client_secret=&v=20180605\n",
      "https://api.foursquare.com/v2/venues/4e4ce4d1bd413c4cc66d0562?&client_id=&client_secret=&v=20180605\n",
      "https://api.foursquare.com/v2/venues/4c1ba521eac020a1382d45c2?&client_id=&client_secret=&v=20180605\n",
      "https://api.foursquare.com/v2/venues/4bc7cd216501c9b63e3b3f29?&client_id=&client_secret=&v=20180605\n",
      "https://api.foursquare.com/v2/venues/516080f4e4b0dcf88a609cf1?&client_id=&client_secret=&v=20180605\n",
      "https://api.foursquare.com/v2/venues/4d1a4cf51356a0934d7ff082?&client_id=&client_secret=&v=20180605\n",
      "https://api.foursquare.com/v2/venues/4bf1d250d39ad13a85b4aa0e?&client_id=&client_secret=&v=20180605\n",
      "https://api.foursquare.com/v2/venues/4b19debcf964a5207ce523e3?&client_id=&client_secret=&v=20180605\n",
      "https://api.foursquare.com/v2/venues/4be84f89c5220f472d95a9ca?&client_id=&client_secret=&v=20180605\n",
      "https://api.foursquare.com/v2/venues/4a0c9f36f964a5204e751fe3?&client_id=&client_secret=&v=20180605\n",
      "https://api.foursquare.com/v2/venues/4c9dbaab7ada199cc4b794bc?&client_id=&client_secret=&v=20180605\n",
      "https://api.foursquare.com/v2/venues/4ba23faef964a520f2e637e3?&client_id=&client_secret=&v=20180605\n",
      "https://api.foursquare.com/v2/venues/4e4ce455bd413c4cc66d0138?&client_id=&client_secret=&v=20180605\n",
      "Ratings Extracted!!\n",
      "Data saved and exported!!\n"
     ]
    }
   ],
   "source": [
    "lastIndex=len(ny_ff['Id'])\n",
    "RestaurantIds=(ny_ff.iloc[149:lastIndex,4])\n",
    "#RestaurantIds=['5b720467037be1002c11b69b']\n",
    "\n",
    "print(RestaurantIds.count())\n",
    "print(RestaurantIds)\n",
    "\n",
    "df_ratings = getRatings(RestaurantIds)\n",
    "\n",
    "print('Data saved and exported!!')"
   ]
  },
  {
   "cell_type": "markdown",
   "metadata": {},
   "source": [
    "## Looking for data in extracted dataframe"
   ]
  },
  {
   "cell_type": "code",
   "execution_count": 48,
   "metadata": {},
   "outputs": [
    {
     "data": {
      "text/html": [
       "<div>\n",
       "<style scoped>\n",
       "    .dataframe tbody tr th:only-of-type {\n",
       "        vertical-align: middle;\n",
       "    }\n",
       "\n",
       "    .dataframe tbody tr th {\n",
       "        vertical-align: top;\n",
       "    }\n",
       "\n",
       "    .dataframe thead th {\n",
       "        text-align: right;\n",
       "    }\n",
       "</style>\n",
       "<table border=\"1\" class=\"dataframe\">\n",
       "  <thead>\n",
       "    <tr style=\"text-align: right;\">\n",
       "      <th></th>\n",
       "      <th>RestaurantId</th>\n",
       "      <th>Likes</th>\n",
       "      <th>Price_Tier</th>\n",
       "      <th>Ratings</th>\n",
       "    </tr>\n",
       "  </thead>\n",
       "  <tbody>\n",
       "    <tr>\n",
       "      <th>0</th>\n",
       "      <td>4bf1f678d39ad13a9ce5aa0e</td>\n",
       "      <td>22</td>\n",
       "      <td>1</td>\n",
       "      <td>5.8</td>\n",
       "    </tr>\n",
       "    <tr>\n",
       "      <th>1</th>\n",
       "      <td>4d22633b04f559412373f585</td>\n",
       "      <td>1</td>\n",
       "      <td>1</td>\n",
       "      <td>6.7</td>\n",
       "    </tr>\n",
       "    <tr>\n",
       "      <th>2</th>\n",
       "      <td>51382eece4b0cdf571c3956c</td>\n",
       "      <td>0</td>\n",
       "      <td>1</td>\n",
       "      <td>5.7</td>\n",
       "    </tr>\n",
       "    <tr>\n",
       "      <th>3</th>\n",
       "      <td>51b79ea887f367858131aa5b</td>\n",
       "      <td>2</td>\n",
       "      <td>1</td>\n",
       "      <td>5.8</td>\n",
       "    </tr>\n",
       "    <tr>\n",
       "      <th>4</th>\n",
       "      <td>4b25f542f964a520c47724e3</td>\n",
       "      <td>14</td>\n",
       "      <td>1</td>\n",
       "      <td>5.1</td>\n",
       "    </tr>\n",
       "  </tbody>\n",
       "</table>\n",
       "</div>"
      ],
      "text/plain": [
       "               RestaurantId  Likes  Price_Tier  Ratings\n",
       "0  4bf1f678d39ad13a9ce5aa0e     22           1      5.8\n",
       "1  4d22633b04f559412373f585      1           1      6.7\n",
       "2  51382eece4b0cdf571c3956c      0           1      5.7\n",
       "3  51b79ea887f367858131aa5b      2           1      5.8\n",
       "4  4b25f542f964a520c47724e3     14           1      5.1"
      ]
     },
     "execution_count": 48,
     "metadata": {},
     "output_type": "execute_result"
    }
   ],
   "source": [
    "df_ratings.head()\n"
   ]
  },
  {
   "cell_type": "code",
   "execution_count": 49,
   "metadata": {},
   "outputs": [
    {
     "name": "stdout",
     "output_type": "stream",
     "text": [
      "(24, 4)\n",
      "               RestaurantId  Likes  Price_Tier  Ratings\n",
      "0  4bf1f678d39ad13a9ce5aa0e     22           1      5.8\n",
      "1  4d22633b04f559412373f585      1           1      6.7\n",
      "2  51382eece4b0cdf571c3956c      0           1      5.7\n",
      "3  51b79ea887f367858131aa5b      2           1      5.8\n",
      "4  4b25f542f964a520c47724e3     14           1      5.1\n",
      "                          Likes  Price_Tier  Ratings\n",
      "RestaurantId                                        \n",
      "4a0c9f36f964a5204e751fe3      1           1        1\n",
      "4ac902a2f964a52003be20e3      1           1        1\n",
      "4acfaa7cf964a52032d520e3      1           1        1\n",
      "4b074da2f964a5209bfb22e3      1           1        1\n",
      "4b19debcf964a5207ce523e3      1           1        1\n",
      "4b25f542f964a520c47724e3      1           1        1\n",
      "4ba23faef964a520f2e637e3      1           1        1\n",
      "4bbd288407809521d950da91      1           1        1\n",
      "4bc7cd216501c9b63e3b3f29      1           1        1\n",
      "4be84f89c5220f472d95a9ca      1           1        1\n",
      "4bf1d250d39ad13a85b4aa0e      1           1        1\n",
      "4bf1f678d39ad13a9ce5aa0e      1           1        1\n",
      "4c1ba521eac020a1382d45c2      1           1        1\n",
      "4c9dbaab7ada199cc4b794bc      1           1        1\n",
      "4d1a4cf51356a0934d7ff082      1           1        1\n",
      "4d22633b04f559412373f585      1           1        1\n",
      "4de15acde4cd056f7429fad9      1           1        1\n",
      "4e4ce455bd413c4cc66d0138      1           1        1\n",
      "4e4ce4d1bd413c4cc66d0562      1           1        1\n",
      "51382eece4b0cdf571c3956c      1           1        1\n",
      "516080f4e4b0dcf88a609cf1      1           1        1\n",
      "51b79ea887f367858131aa5b      1           1        1\n",
      "55a15550498e4dc36c4845c3      1           1        1\n",
      "563ee2e4cd10872628b2cf66      1           1        1\n"
     ]
    }
   ],
   "source": [
    "df_ratings.drop_duplicates(subset=['RestaurantId'], keep=\"first\",inplace=True)\n",
    "df_ratings.reset_index()\n",
    "print(df_ratings.shape)\n",
    "print(df_ratings.head())\n",
    "print(df_ratings.groupby('RestaurantId').count())"
   ]
  },
  {
   "cell_type": "markdown",
   "metadata": {},
   "source": [
    "## Due to limited Foursquare premium calls, saving this information in csv file 'export_dataframe2.csv'"
   ]
  },
  {
   "cell_type": "code",
   "execution_count": 50,
   "metadata": {},
   "outputs": [
    {
     "data": {
      "text/html": [
       "<a download=\"export_dataframe2.csv\" href=\"data:text/csv;base64,UmVzdGF1cmFudElkLExpa2VzLFByaWNlX1RpZXIsUmF0aW5ncwo0YmYxZjY3OGQzOWFkMTNhOWNlNWFhMGUsMjIsMSw1LjgKNGQyMjYzM2IwNGY1NTk0MTIzNzNmNTg1LDEsMSw2LjcKNTEzODJlZWNlNGIwY2RmNTcxYzM5NTZjLDAsMSw1LjcKNTFiNzllYTg4N2YzNjc4NTgxMzFhYTViLDIsMSw1LjgKNGIyNWY1NDJmOTY0YTUyMGM0NzcyNGUzLDE0LDEsNS4xCjRiYmQyODg0MDc4MDk1MjFkOTUwZGE5MSw1LDEsNS4yCjU1YTE1NTUwNDk4ZTRkYzM2YzQ4NDVjMywzLDEsNS4wCjRhY2ZhYTdjZjk2NGE1MjAzMmQ1MjBlMywzNSwxLDUuOAo0ZGUxNWFjZGU0Y2QwNTZmNzQyOWZhZDksMCwxLDYuNgo0YWM5MDJhMmY5NjRhNTIwMDNiZTIwZTMsMiwxLDUuNQo1NjNlZTJlNGNkMTA4NzI2MjhiMmNmNjYsMCwxLDYuNgo0YjA3NGRhMmY5NjRhNTIwOWJmYjIyZTMsMjEsMSw0LjkKNGU0Y2U0ZDFiZDQxM2M0Y2M2NmQwNTYyLDEsMSw2LjYKNGMxYmE1MjFlYWMwMjBhMTM4MmQ0NWMyLDMsMSw2LjkKNGJjN2NkMjE2NTAxYzliNjNlM2IzZjI5LDIsMSw0LjcKNTE2MDgwZjRlNGIwZGNmODhhNjA5Y2YxLDEsMSwwLjAKNGQxYTRjZjUxMzU2YTA5MzRkN2ZmMDgyLDEsMSwwLjAKNGJmMWQyNTBkMzlhZDEzYTg1YjRhYTBlLDE0LDEsNy42CjRiMTlkZWJjZjk2NGE1MjA3Y2U1MjNlMywxOSwxLDQuOAo0YmU4NGY4OWM1MjIwZjQ3MmQ5NWE5Y2EsMCwxLDYuNQo0YTBjOWYzNmY5NjRhNTIwNGU3NTFmZTMsMSwxLDAuMAo0YzlkYmFhYjdhZGExOTljYzRiNzk0YmMsMCwxLDYuNgo0YmEyM2ZhZWY5NjRhNTIwZjJlNjM3ZTMsNCwxLDYuNgo0ZTRjZTQ1NWJkNDEzYzRjYzY2ZDAxMzgsNCwxLDYuMgo=\" target=\"_blank\">Download CSV file</a>"
      ],
      "text/plain": [
       "<IPython.core.display.HTML object>"
      ]
     },
     "execution_count": 50,
     "metadata": {},
     "output_type": "execute_result"
    }
   ],
   "source": [
    "import base64\n",
    "from IPython.display import HTML\n",
    "\n",
    "def create_download_link( df_ratings, title = \"Download CSV file\", filename = \"export_dataframe2.csv\"):  \n",
    "    csv = df_ratings.to_csv(index = None, header=True)\n",
    "    b64 = base64.b64encode(csv.encode())\n",
    "    payload = b64.decode()\n",
    "    html = '<a download=\"{filename}\" href=\"data:text/csv;base64,{payload}\" target=\"_blank\">{title}</a>'\n",
    "    html = html.format(payload=payload,title=title,filename=filename)\n",
    "    return HTML(html)\n",
    "\n",
    "create_download_link(df_ratings)"
   ]
  },
  {
   "cell_type": "code",
   "execution_count": null,
   "metadata": {},
   "outputs": [],
   "source": []
  }
 ],
 "metadata": {
  "kernelspec": {
   "display_name": "Python 3",
   "language": "python",
   "name": "python3"
  },
  "language_info": {
   "codemirror_mode": {
    "name": "ipython",
    "version": 3
   },
   "file_extension": ".py",
   "mimetype": "text/x-python",
   "name": "python",
   "nbconvert_exporter": "python",
   "pygments_lexer": "ipython3",
   "version": "3.6.6"
  }
 },
 "nbformat": 4,
 "nbformat_minor": 2
}
